{
 "cells": [
  {
   "cell_type": "markdown",
   "metadata": {},
   "source": [
    "# Flow Matching using JAX"
   ]
  },
  {
   "cell_type": "code",
   "execution_count": 1,
   "metadata": {},
   "outputs": [],
   "source": [
    "import jax\n",
    "import jax.numpy as jnp\n",
    "from jaxlib.xla_extension import ArrayImpl\n",
    "import flax\n",
    "from flax.training import train_state\n",
    "from flax.training.train_state import TrainState\n",
    "from flax import linen as nn\n",
    "from jaxtyping import Array, Float\n",
    "import numpy as np\n",
    "import optax\n",
    "import os\n",
    "import math \n",
    "import numpy as np\n",
    "import torch\n",
    "from typing import Any\n",
    "import torch.utils.data as data\n",
    "import matplotlib.pyplot as plt\n",
    "import matplotlib.animation as animation\n",
    "from sklearn.datasets import make_moons, make_swiss_roll\n",
    "from sklearn.preprocessing import StandardScaler\n",
    "from torch.utils.data import TensorDataset, DataLoader, Dataset\n",
    "from tqdm import tqdm, trange\n"
   ]
  },
  {
   "cell_type": "code",
   "execution_count": 2,
   "metadata": {},
   "outputs": [],
   "source": [
    "DATASET_NAME = \"swiss\"\n",
    "#DATASET_NAME = \"moons\"\n",
    "N_EPOCHS = 1_000\n",
    "rng = jax.random.PRNGKey(0)"
   ]
  },
  {
   "cell_type": "markdown",
   "metadata": {},
   "source": [
    "# Interpolant and Velocity"
   ]
  },
  {
   "cell_type": "code",
   "execution_count": 3,
   "metadata": {},
   "outputs": [],
   "source": [
    "\n",
    "def interpolant(x0: Float[Array, \"N\"] , x1: Float[Array, \"N\"], t: float) -> Float[Array, \"N\"]:\n",
    "    return x0 + (x1 - x0) * t\n",
    "\n",
    "velocity = jax.jacrev(interpolant, argnums=2)\n",
    "\n",
    "interpolant = jax.vmap(interpolant)\n",
    "velocity = jax.vmap(velocity)"
   ]
  },
  {
   "cell_type": "markdown",
   "metadata": {},
   "source": [
    "## Neural Networks"
   ]
  },
  {
   "cell_type": "code",
   "execution_count": 4,
   "metadata": {},
   "outputs": [],
   "source": [
    "def time_encoding(t: float, n_frequencies: int) -> Float[Array, \"2 n_freq\"]:\n",
    "    phases = 2 * jnp.arange(n_frequencies) * jnp.pi * t\n",
    "    return jnp.concatenate([jnp.sin(phases), jnp.cos(phases)])\n",
    "\n",
    "time_encoding = jax.vmap(time_encoding, in_axes=(0, None))\n",
    "\n",
    "class MLP(nn.Module):\n",
    "    h_dim: list[int]\n",
    "    out_dim: int\n",
    "    n_frequencies: int\n",
    "\n",
    "    @nn.compact\n",
    "    def __call__(self, t: Float[Array, \"B\"], x: Float[Array, \"B N\"]) -> Float[Array, \"B N\"]:\n",
    "        x = jnp.concatenate([x, time_encoding(t, self.n_frequencies)], axis=-1)\n",
    "        for h in self.h_dim:\n",
    "            x = nn.Dense(h)(x)\n",
    "            x = nn.relu(x)\n",
    "        return nn.Dense(self.out_dim)(x)"
   ]
  },
  {
   "cell_type": "code",
   "execution_count": 5,
   "metadata": {},
   "outputs": [],
   "source": [
    "cfm = MLP(h_dim=[128, 128, 128], out_dim=2, n_frequencies=5)\n",
    "rng, inp_rng, t_rng, init_rng = jax.random.split(rng, 4)\n",
    "inp = jax.random.normal(inp_rng, (8, 2))\n",
    "t = jax.random.uniform(t_rng, (8, 1))\n",
    "params = cfm.init(init_rng, t, inp)"
   ]
  },
  {
   "cell_type": "markdown",
   "metadata": {},
   "source": [
    "## Dataset\n"
   ]
  },
  {
   "cell_type": "code",
   "execution_count": 6,
   "metadata": {},
   "outputs": [],
   "source": [
    "class SimpleDataset(Dataset):\n",
    "  def __init__(self, n_points: int, dataset: str) -> None:\n",
    "    if dataset == \"moons\":\n",
    "      data, _ = make_moons(n_points, noise=0.15)\n",
    "    elif dataset == \"swiss\":\n",
    "      data, _ = make_swiss_roll(n_points, noise=0.15)\n",
    "      data = data[:, [0, 2]] / 10.0\n",
    "    \n",
    "    self.data = StandardScaler().fit_transform(data)\n",
    "\n",
    "  def __len__(self) -> None:\n",
    "    return len(self.data)\n",
    "\n",
    "  def __getitem__(self, idx: int) -> Float[Array, \"N\"]:\n",
    "    return self.data[idx]\n",
    "\n",
    "ds = SimpleDataset(100_000, DATASET_NAME)\n",
    "numpy_collate = lambda x: np.stack(x)\n",
    "dl = DataLoader(ds, batch_size=2048, shuffle=True, collate_fn=numpy_collate)"
   ]
  },
  {
   "cell_type": "markdown",
   "metadata": {},
   "source": [
    "## Training"
   ]
  },
  {
   "cell_type": "code",
   "execution_count": 7,
   "metadata": {},
   "outputs": [],
   "source": [
    "optimizer = optax.adam(learning_rate=1e-2)\n",
    "cfm_state = train_state.TrainState.create(apply_fn=cfm.apply, params=params, tx=optimizer)"
   ]
  },
  {
   "cell_type": "code",
   "execution_count": 8,
   "metadata": {},
   "outputs": [],
   "source": [
    "def loss_fn(state: TrainState, params: dict[str, Any], x1: Float[Array, \"B N\"], rng: ArrayImpl) -> Float[Array, \"1\"]:\n",
    "    rng, t_rng, noise_rng = jax.random.split(rng, 3)\n",
    "    # sample x0\n",
    "    x0 = jax.random.normal(noise_rng, x1.shape)\n",
    "    t = jax.random.uniform(t_rng, (x1.shape[0]))\n",
    "\n",
    "    # sample xt\n",
    "    xt = interpolant(x0, x1, t)\n",
    "    vt = velocity(x0, x1, t)\n",
    "    vt_pred = state.apply_fn(params, t, xt)\n",
    "    loss = jnp.mean((vt_pred - vt) ** 2)\n",
    "\n",
    "    return loss\n",
    "\n",
    "\n",
    "@jax.jit\n",
    "def train_step(state: TrainState, batch: Float[Array, \"B N\"], step_rng: ArrayImpl) -> tuple[TrainState, Float[Array, \"1\"]]:\n",
    "    grad_fn = jax.value_and_grad(loss_fn, argnums=1)\n",
    "    loss, grads = grad_fn(state, state.params, batch, step_rng)\n",
    "    state = state.apply_gradients(grads=grads)\n",
    "\n",
    "    return state, loss\n",
    "\n",
    "\n",
    "@jax.jit\n",
    "def eval_step(params: dict[str, Any], batch: Float[Array, \"B N\"], step_rng: ArrayImpl) -> Float[Array, \"1\"]:\n",
    "    return loss_fn(model_state, params, batch, step_rng)"
   ]
  },
  {
   "cell_type": "code",
   "execution_count": 9,
   "metadata": {},
   "outputs": [],
   "source": [
    "def train_model(state: TrainState, data_loader: DataLoader, rng: ArrayImpl, num_epochs: int=100) -> TrainState:\n",
    "    for epoch in trange(num_epochs):\n",
    "        for batch in data_loader:\n",
    "            rng, step_rng = jax.random.split(rng)\n",
    "            state, loss = train_step(state, batch, step_rng)\n",
    "\n",
    "    return state"
   ]
  },
  {
   "cell_type": "code",
   "execution_count": 10,
   "metadata": {},
   "outputs": [
    {
     "name": "stderr",
     "output_type": "stream",
     "text": [
      "100%|██████████| 1000/1000 [05:25<00:00,  3.07it/s]\n"
     ]
    }
   ],
   "source": [
    "ckpt_dir = os.path.join(os.getcwd(), \"checkpoints\")\n",
    "trained_model_state = train_model(cfm_state, dl,rng,  num_epochs=N_EPOCHS)"
   ]
  },
  {
   "cell_type": "code",
   "execution_count": 11,
   "metadata": {},
   "outputs": [],
   "source": [
    "def sample(n_points: int, rng: ArrayImpl, cfm: MLP, model_state: TrainState, n_steps: int=100) -> list[Float[Array, \"S N\"]]:\n",
    "    rng, noise_rng = jax.random.split(rng)\n",
    "    xt = jax.random.normal(noise_rng, (n_points, 2))\n",
    "    trajectory = [xt]\n",
    "    timesteps = jnp.linspace(0, 1, n_steps)\n",
    "    for t_current, t_next in zip(timesteps[:-1], timesteps[1:]):\n",
    "        t = jnp.ones(n_points) * t_current\n",
    "        xt = xt + (t_next - t_current) * cfm.apply(model_state.params, t, xt) \n",
    "        trajectory.append(xt)\n",
    "\n",
    "    return trajectory\n",
    "\n",
    "\n",
    "trajectory = sample(n_points=2000, rng=rng, cfm=cfm, model_state=trained_model_state, n_steps=500)"
   ]
  },
  {
   "cell_type": "code",
   "execution_count": 12,
   "metadata": {},
   "outputs": [
    {
     "data": {
      "image/png": "[encoded data removed]",
      "text/plain": [
       "<Figure size 500x500 with 1 Axes>"
      ]
     },
     "metadata": {},
     "output_type": "display_data"
    }
   ],
   "source": [
    "# init the figure\n",
    "N_FRAMES = 100\n",
    "END_PADDING = 1000\n",
    "frames = trajectory[::len(trajectory) // N_FRAMES]\n",
    "pad_frames = frames + [frames[-1]] * END_PADDING\n",
    "fig, ax = plt.subplots(figsize=(5,5))\n",
    "# remove ticks\n",
    "def update(i: int) -> None:\n",
    "    ax.clear()\n",
    "    ax.scatter(pad_frames[i][:, 0], pad_frames[i][:, 1], s=1)\n",
    "    ax.set_xlim(-5, 5)\n",
    "    ax.set_ylim(-5, 5)\n",
    "    ax.set_xticks([])\n",
    "    ax.set_yticks([])\n",
    "\n",
    "# remove the frame\n",
    "ax.spines['top'].set_visible(False)\n",
    "ax.spines['right'].set_visible(False)\n",
    "ax.spines['bottom'].set_visible(False)\n",
    "ax.spines['left'].set_visible(False)\n",
    "\n",
    "ani = animation.FuncAnimation(fig, update, frames=N_FRAMES + END_PADDING, interval=1)\n",
    "ani.save(f'{DATASET_NAME}_{N_EPOCHS}.gif', writer='pillow')"
   ]
  }
 ],
 "metadata": {
  "kernelspec": {
   "display_name": "jaxenv",
   "language": "python",
   "name": "python3"
  },
  "language_info": {
   "codemirror_mode": {
    "name": "ipython",
    "version": 3
   },
   "file_extension": ".py",
   "mimetype": "text/x-python",
   "name": "python",
   "nbconvert_exporter": "python",
   "pygments_lexer": "ipython3",
   "version": "3.11.9"
  }
 },
 "nbformat": 4,
 "nbformat_minor": 2
}
